{
 "cells": [
  {
   "cell_type": "code",
   "execution_count": 1,
   "id": "e6471968",
   "metadata": {},
   "outputs": [],
   "source": [
    "import openai\n",
    "import json\n",
    "from utils.paths import *"
   ]
  },
  {
   "cell_type": "code",
   "execution_count": null,
   "id": "dafe74c0",
   "metadata": {},
   "outputs": [],
   "source": [
    "with open(PROMPTS_PATH, \"r\", encoding=\"utf-8\") as f:\n",
    "    prompts = json.load(f)\n",
    "\n",
    "system_prompt = prompts[\"system_prompt\"]\n",
    "\n",
    "with open(SCHEMA_PATH, \"r\", encoding=\"utf-8\") as f:\n",
    "    json_schema = json.load(f)"
   ]
  },
  {
   "cell_type": "code",
   "execution_count": null,
   "id": "2ed92427",
   "metadata": {},
   "outputs": [],
   "source": [
    "def create_prompt(text):\n",
    "    user_prompt = f\"\"\"\n",
    "    Ниже приведён текстовый отчёт о скважине.  \n",
    "    Проанализируй его и заполни все поля JSON-схемы в соответствии с данными, найденными в тексте.  \n",
    "    Если какие-то данные отсутствуют — ставь пустую строку \"\".  \n",
    "    Помни: вывод должен строго соответствовать JSON Schema и быть корректным JSON-объектом (не массивом, не текстом).\n",
    "\n",
    "    Текст отчёта:\n",
    "    {text}\n",
    "    \"\"\"\n",
    "    return user_prompt"
   ]
  },
  {
   "cell_type": "code",
   "execution_count": 4,
   "id": "49283e17",
   "metadata": {},
   "outputs": [
    {
     "data": {
      "text/plain": [
       "'\\n    Ниже приведён текстовый отчёт о скважине.  \\n    Проанализируй его и заполни все поля JSON-схемы в соответствии с данными, найденными в тексте.  \\n    Если какие-то данные отсутствуют — ставь пустую строку \"\".  \\n    Помни: вывод должен строго соответствовать JSON Schema и быть корректным JSON-объектом (не массивом, не текстом).\\n\\n    Текст отчёта:\\n    \\nСкважина №2177 расположена в Октябрьском районе. \\nЭксплуатируется ООО \"НефтьСервис\". \\nКатегория — добывающая. \\nСпособ эксплуатации — фонтанный. \\nСостояние по фонду — действующая. \\nДата последней остановки — 2024-12-15 (по причине планового обслуживания).\\n\\n    '"
      ]
     },
     "execution_count": 4,
     "metadata": {},
     "output_type": "execute_result"
    }
   ],
   "source": [
    "raw_text = \"\"\"\n",
    "Скважина №2177 расположена в Октябрьском районе. \n",
    "Эксплуатируется ООО \"НефтьСервис\". \n",
    "Категория — добывающая. \n",
    "Способ эксплуатации — фонтанный. \n",
    "Состояние по фонду — действующая. \n",
    "Дата последней остановки — 2024-12-15 (по причине планового обслуживания).\n",
    "\"\"\"\n",
    "user_prompt = create_prompt(raw_text)\n",
    "user_prompt"
   ]
  },
  {
   "cell_type": "code",
   "execution_count": 5,
   "id": "cbeded74",
   "metadata": {},
   "outputs": [],
   "source": [
    "client = openai.OpenAI(\n",
    "    api_key=YANDEX_CLOUD_API_KEY,\n",
    "    base_url=\"https://llm.api.cloud.yandex.net/v1\"\n",
    ")"
   ]
  },
  {
   "cell_type": "code",
   "execution_count": 6,
   "id": "1dc38977",
   "metadata": {},
   "outputs": [],
   "source": [
    "response = client.chat.completions.create(\n",
    "    model=f\"gpt://b1gdsddkrr4oalkrcfu8/qwen3-235b-a22b-fp8/latest\",\n",
    "    messages=[\n",
    "        {\"role\": \"system\", \"content\": system_prompt},\n",
    "        {\"role\": \"user\", \"content\": user_prompt}\n",
    "    ],\n",
    "    max_tokens=2048,\n",
    "    temperature=0.0,\n",
    "    stream=False,\n",
    "    response_format={\"type\": \"json_schema\", \"json_schema\": json_schema}\n",
    ")"
   ]
  },
  {
   "cell_type": "code",
   "execution_count": 7,
   "id": "50a76702",
   "metadata": {},
   "outputs": [
    {
     "name": "stdout",
     "output_type": "stream",
     "text": [
      "{\n",
      "    \"Инвентарный номер\": \"2177\",\n",
      "    \"Район\": \"Октябрьский\",\n",
      "    \"Организация\": \"ООО \\\"НефтьСервис\\\"\",\n",
      "    \"Категория скважины\": \"добывающая\",\n",
      "    \"Способ эксплуатации\": \"фонтанный\",\n",
      "    \"Состояние по фонду\": \"действующая\",\n",
      "    \"Дата остановки\": \"2024-12-15\"\n",
      "}\n"
     ]
    }
   ],
   "source": [
    "answer = response.choices[0].message.content\n",
    "\n",
    "try:\n",
    "    data = json.loads(answer)\n",
    "    print(json.dumps(data, indent=4, ensure_ascii=False))\n",
    "except json.JSONDecodeError:\n",
    "    print(\"⚠️ Ответ невалидный JSON, печатаю как есть:\")\n",
    "    print(answer)\n"
   ]
  },
  {
   "cell_type": "code",
   "execution_count": null,
   "id": "a8e3f6bb",
   "metadata": {},
   "outputs": [],
   "source": []
  }
 ],
 "metadata": {
  "kernelspec": {
   "display_name": "hackathon-reportable (3.13.3)",
   "language": "python",
   "name": "python3"
  },
  "language_info": {
   "codemirror_mode": {
    "name": "ipython",
    "version": 3
   },
   "file_extension": ".py",
   "mimetype": "text/x-python",
   "name": "python",
   "nbconvert_exporter": "python",
   "pygments_lexer": "ipython3",
   "version": "3.13.3"
  }
 },
 "nbformat": 4,
 "nbformat_minor": 5
}
